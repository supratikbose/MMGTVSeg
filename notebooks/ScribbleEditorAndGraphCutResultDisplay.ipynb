{
 "cells": [
  {
   "cell_type": "markdown",
   "metadata": {},
   "source": [
    "#### Import"
   ]
  },
  {
   "cell_type": "code",
   "execution_count": 1,
   "metadata": {},
   "outputs": [],
   "source": [
    "import os\n",
    "import glob\n",
    "import sys\n",
    "\n",
    "import shutil\n",
    "import json\n",
    "\n",
    "import numpy as np\n",
    "import random\n",
    "import matplotlib.pyplot as plt\n",
    "import scipy\n",
    "from scipy import ndimage\n",
    "import nibabel as nib\n",
    "from scipy.ndimage import morphology\n",
    "import SimpleITK\n",
    "import pandas as pd"
   ]
  },
  {
   "cell_type": "markdown",
   "metadata": {},
   "source": [
    "### Interactive scribble and graphcut Plan\n",
    "#### Choose (a) Patient name, srcDir, expDir, patConfig, graphCut config (b) Create random scribbles; (c) Load in slicer : Volumes (CT, PET, softmax), Segmentations (ground Truth:  gt, prediction from NN: predNN, foreground scribble: fgScribble, background-scribble: bgScribble, initial graph cut results using CT, PET and Softmax) (d) User modifies fgScribble and bgSScribble using slicer (e) Use Jupyter NB to save updated fgScribble and bgScribble (f) Repeat graphcut using jupyter - graph cut results using CT, PET and Softmax; (f) View in slice -> go back to step(d)"
   ]
  },
  {
   "cell_type": "markdown",
   "metadata": {},
   "source": [
    "### Helper functions \n",
    "#### Most of these has already been tested in other notebook(s); "
   ]
  },
  {
   "cell_type": "code",
   "execution_count": 2,
   "metadata": {},
   "outputs": [],
   "source": [
    "sys.path.append('/home/user/DMML/CodeAndRepositories/MMGTVSeg')\n",
    "import src\n",
    "from src import scribbleHelper, gcHelper, graphCutClient, graphCutServer, libclient, libserver\n",
    "from src.scribbleHelper import checkFolderExistenceAndCreate, readAndScaleImageData,\\\n",
    "    dice_coef_func, dice_multi_label, disk, ball, bbox2_3D, getUnionBoundingBoxWithPadding,\\\n",
    "    chooseScribbleFromMissedFGOrWrongCBG2D, chooseScribbleFromDefiniteRegion2D,\\\n",
    "    autoGenerateScribbleRegions2D,\\\n",
    "    chooseScribbleFromMissedFGOrWrongCBG3D, chooseScribbleFromDefiniteRegion3D,\\\n",
    "    autoGenerateScribbleAndBBox3D,\\\n",
    "    createGCInputUsingGT\n",
    "# import src.gcHelper as gcHelper"
   ]
  },
  {
   "cell_type": "markdown",
   "metadata": {},
   "source": [
    "#### Config"
   ]
  },
  {
   "cell_type": "code",
   "execution_count": 3,
   "metadata": {},
   "outputs": [],
   "source": [
    "#Configs\n",
    "patDataConfig = \\\n",
    "{   \n",
    "     \"ctSuffix\": \"_ct.nii.gz\",\n",
    "     \"ptSuffix\": \"_pt.nii.gz\",\n",
    "     \"gtSuffix\": \"_ct_gtvt.nii.gz\",\n",
    "     \"predSuffix\": \"_segment.nii.gz\",\n",
    "     \"softmaxSuffix\": \"_softMax.nii.gz\",\n",
    "     \"fgScribbleSuffix\": \"_fgScribble.nii.gz\",\n",
    "     \"bgScribbleSuffix\": \"_bgScribble.nii.gz\",\n",
    "     \"ct_gCutSuffix\": \"_ct_gCut.nii.gz\",\n",
    "     \"pet_gCutSuffix\": \"_pet_gCut.nii.gz\",         \n",
    "     \"softmax_gCutSuffix\": \"_softmax_gCut.nii.gz\",\n",
    "     \"ct_low\": -1000,\n",
    "     \"ct_high\": 3095,\n",
    "     \"ct_clipImages\": False,\n",
    "     \"ct_scaleImages\": False,\n",
    "     \"ct_scaleFactor\": 1000,\n",
    "     \"ct_normalizeImages\": False,\n",
    "     \"pt_low\": -1000,\n",
    "     \"pt_high\": 3095,\n",
    "     \"pt_clipImages\": False,\n",
    "     \"pt_scaleImages\": False,\n",
    "     \"pt_scaleFactor\": 1,\n",
    "     \"pt_normalizeImages\": False,\n",
    "     \"labels_to_train\": [1]\n",
    "}\n",
    "\n",
    "\n",
    "autoScribbleAndGCConfig = \\\n",
    "{\n",
    " 'bbPad' : 2,\n",
    " 'fractionDivider' : 10,\n",
    " 'dilation_diam' : 2,\n",
    " 'useAtmostNScribblesPerRegion' : 4,\n",
    " 'segparams_ssgc' : \n",
    "        {\n",
    "         \"method\": \"graphcut\",\n",
    "         \"pairwise_alpha\": 1.0,\n",
    "         \"modelparams\": \n",
    "            {\n",
    "             \"cvtype\": \"full\",\n",
    "             \"params\": \n",
    "                {\n",
    "                 \"covariance_type\": \"full\",\n",
    "                 \"n_components\": 1\n",
    "                }\n",
    "            },\n",
    "         \"return_only_object_with_seeds\": True\n",
    "        }     \n",
    "}"
   ]
  },
  {
   "cell_type": "markdown",
   "metadata": {},
   "source": [
    "#### Basic input"
   ]
  },
  {
   "cell_type": "code",
   "execution_count": 4,
   "metadata": {},
   "outputs": [],
   "source": [
    "srcFolder =\\\n",
    "'/home/user/DMML/Data/HeadNeck_PET_CT/nnUnet_3dfullres/validation_gtvs_withSoftmax'\n",
    "expFolder = '/home/user/DMML/Data/PlayDataManualSegmentation/AutoScribbleExperiment'\n",
    "# srcFolder = 'J:/HecktorData/nnUnet_3dfullres/validation_gtvs_withSoftmax'\n",
    "# expFolder = 'J:/PlayDataManualSegmentation/AutoScribbleExperiment'\n",
    "patientName = 'CHUM038'\n",
    "expPatName = \"expPat\""
   ]
  },
  {
   "cell_type": "markdown",
   "metadata": {},
   "source": [
    "####  Prepare initial random scribble and run graphcut on CT / PET / Softmax (remotely as we are in slicer 4.11 environment  where imcut() could not be implemented)"
   ]
  },
  {
   "cell_type": "code",
   "execution_count": 160,
   "metadata": {},
   "outputs": [
    {
     "name": "stdout",
     "output_type": "stream",
     "text": [
      "Running single experiment on individual patient\n",
      "Starting action :  imcut\n",
      "starting connection to ('127.0.0.1', 65432)\n",
      "sending b'\\x00h{\"byteorder\": \"little\", \"content-type\": \"text/json\", \"content-encoding\": \"utf-8\", \"content-length\": 127}{\"action\": \"imcut\", \"value\": \"/home/user/DMML/Data/PlayDataManualSegmentation/AutoScribbleExperiment/graphCutInputConfig.json\"}' to ('127.0.0.1', 65432)\n",
      "received text/json response from ('127.0.0.1', 65432)\n",
      "graphCut success : True\n",
      "closing connection to ('127.0.0.1', 65432)\n",
      "{'successFlag': True, 'patientName': 'CHUM038', 'gcPath_ct': '/home/user/DMML/Data/PlayDataManualSegmentation/AutoScribbleExperiment/expPat_ct_gCut.nii.gz', 'gcPath_pet': '/home/user/DMML/Data/PlayDataManualSegmentation/AutoScribbleExperiment/expPat_pet_gCut.nii.gz', 'gcPath_softmax': '/home/user/DMML/Data/PlayDataManualSegmentation/AutoScribbleExperiment/expPat_softmax_gCut.nii.gz', 'originalDice': 0.48517890685847803, 'numFGS': 8, 'numBGS': 8, 'gcDice_ct': 0.3803161195366993, 'gcDice_pet': 0.02355105795768169, 'gcDice_softmax': 0.5108442536870462}\n"
     ]
    }
   ],
   "source": [
    "print('Running single experiment on individual patient')\n",
    "\n",
    "ctData,  ptData, gtData, softmaxData, predFromNN,\\\n",
    "    binLimit, bbVolume, numFGS, numBGS,\\\n",
    "    fgScribbleFromFGMissed, bgScribbleFromBGWrongC,\\\n",
    "    fgScribbleFromDefiniteFG, bgScribbleFromDefiniteBG,\\\n",
    "    fgScribble, bgScribble,\\\n",
    "    graphCutInputConfig, graphCutInputConfig_JsonFilePath\\\n",
    "   =  createGCInputUsingGT(patientName=patientName, srcFolder=srcFolder,\\\n",
    "        expFolder=expFolder, expPatName = expPatName,\\\n",
    "        patDataConfig=patDataConfig,\\\n",
    "        autoScribbleAndGCConfig = autoScribbleAndGCConfig,\\\n",
    "        verbose=verbose)\n",
    "\n",
    "from src.gcHelper import remote_generateGrahcutSegmentationAndDiceFromJson    \n",
    "gcAndDiceResult = remote_generateGrahcutSegmentationAndDiceFromJson(graphCutInputConfig_JsonFilePath)\n",
    "print(gcAndDiceResult)"
   ]
  },
  {
   "cell_type": "code",
   "execution_count": 6,
   "metadata": {},
   "outputs": [
    {
     "name": "stdout",
     "output_type": "stream",
     "text": [
      "Starting action :  imcut\n",
      "starting connection to ('127.0.0.1', 65432)\n",
      "sending b'\\x00h{\"byteorder\": \"little\", \"content-type\": \"text/json\", \"content-encoding\": \"utf-8\", \"content-length\": 127}{\"action\": \"imcut\", \"value\": \"/home/user/DMML/Data/PlayDataManualSegmentation/AutoScribbleExperiment/graphCutInputConfig.json\"}' to ('127.0.0.1', 65432)\n",
      "received text/json response from ('127.0.0.1', 65432)\n",
      "graphCut success : True\n",
      "closing connection to ('127.0.0.1', 65432)\n",
      "{'successFlag': True, 'patientName': 'CHUM038', 'gcPath_ct': '/home/user/DMML/Data/PlayDataManualSegmentation/AutoScribbleExperiment/expPat_ct_gCut.nii.gz', 'gcPath_pet': '/home/user/DMML/Data/PlayDataManualSegmentation/AutoScribbleExperiment/expPat_pet_gCut.nii.gz', 'gcPath_softmax': '/home/user/DMML/Data/PlayDataManualSegmentation/AutoScribbleExperiment/expPat_softmax_gCut.nii.gz', 'originalDice': 0.48517890685847803, 'numFGS': 8, 'numBGS': 8, 'gcDice_ct': 0.3822694948353578, 'gcDice_pet': 0.4741745584847709, 'gcDice_softmax': 0.5530731190392087}\n"
     ]
    }
   ],
   "source": [
    "graphCutInputConfig_JsonFilePath = \"/home/user/DMML/Data/PlayDataManualSegmentation/AutoScribbleExperiment/graphCutInputConfig.json\"\n",
    "from src.gcHelper import remote_generateGrahcutSegmentationAndDiceFromJson    \n",
    "gcAndDiceResult = remote_generateGrahcutSegmentationAndDiceFromJson(graphCutInputConfig_JsonFilePath)\n",
    "print(gcAndDiceResult)"
   ]
  },
  {
   "cell_type": "code",
   "execution_count": 7,
   "metadata": {},
   "outputs": [
    {
     "name": "stdout",
     "output_type": "stream",
     "text": [
      "/home/user/DMML/Data/PlayDataManualSegmentation/AutoScribbleExperiment\n",
      "expPat_ct.nii.gz\n",
      "expPat_pt.nii.gz\n",
      "expPat_ct_gtvt.nii.gz\n",
      "expPat_softMax.nii.gz\n",
      "expPat_segment.nii.gz\n",
      "expPat_fgScribble.nii.gz\n",
      "expPat_bgScribble.nii.gz\n",
      "expPat_ct_gCut.nii.gz\n",
      "expPat_pet_gCut.nii.gz\n",
      "expPat_softmax_gCut.nii.gz\n"
     ]
    }
   ],
   "source": [
    "ctFileName = expPatName + patDataConfig['ctSuffix']\n",
    "ptFileName = expPatName + patDataConfig['ptSuffix']\n",
    "gtFileName = expPatName + patDataConfig['gtSuffix']\n",
    "softmaxFileName = expPatName + patDataConfig['softmaxSuffix']\n",
    "predFromNNFileName = expPatName + patDataConfig['predSuffix']\n",
    "fgScribbleFileName = expPatName + patDataConfig['fgScribbleSuffix']\n",
    "bgScribbleFileName = expPatName + patDataConfig['bgScribbleSuffix']\n",
    "gc_ct_FileName = expPatName + patDataConfig['ct_gCutSuffix']\n",
    "gc_pet_FileName = expPatName + patDataConfig['pet_gCutSuffix']\n",
    "gc_softmax_FileName = expPatName + patDataConfig['softmax_gCutSuffix']\n",
    "print(expFolder)\n",
    "print(ctFileName)\n",
    "print(ptFileName)\n",
    "print(gtFileName)\n",
    "print(softmaxFileName)\n",
    "print(predFromNNFileName)\n",
    "print(fgScribbleFileName)\n",
    "print(bgScribbleFileName)\n",
    "print(gc_ct_FileName)\n",
    "print(gc_pet_FileName)\n",
    "print(gc_softmax_FileName)"
   ]
  },
  {
   "cell_type": "code",
   "execution_count": 8,
   "metadata": {},
   "outputs": [],
   "source": [
    "import JupyterNotebooksLib as slicernb\n",
    "slicernb.ViewDisplay('OneUpRedSlice') #'FourUp', 'OneUp3D'\n",
    "slicer.mrmlScene.Clear()"
   ]
  },
  {
   "cell_type": "code",
   "execution_count": 9,
   "metadata": {},
   "outputs": [],
   "source": [
    "#This one creates separate segment from  label file and attach to common segmentation node\n",
    "def createSegmentFromLabelFile(folderPath, labelFileName, labelMapName,\\\n",
    "        parentSegmentationNode, colorTriple, sliceFillFlag, overallVisibility):\n",
    "    #labelMapNode = slicer.util.addVolumeFromArray(labelData,ijkToRAS=None,\n",
    "    #                      name=labelMapName,nodeClassName='vtkMRMLScalarVolumeNode')\n",
    "    labelMapNode = slicer.util.loadLabelVolume(os.path.join(folderPath, labelFileName),\\\n",
    "            properties = {'name': labelMapName})\n",
    "    slicer.modules.segmentations.logic().ImportLabelmapToSegmentationNode(labelMapNode, parentSegmentationNode)\n",
    "    slicer.mrmlScene.RemoveNode(labelMapNode)\n",
    "    parentSegmentationNode.GetSegmentation().GetSegment(labelMapName).SetColor(colorTriple[0], colorTriple[1],colorTriple[2])\n",
    "    parentSegmentationNode.GetDisplayNode().SetSegmentVisibility2DFill(labelMapName,sliceFillFlag)\n",
    "    parentSegmentationNode.GetDisplayNode().SetSegmentVisibility(labelMapName,overallVisibility)\n",
    "    return labelMapName"
   ]
  },
  {
   "cell_type": "code",
   "execution_count": 10,
   "metadata": {},
   "outputs": [],
   "source": [
    "ctVolumeNode = slicer.util.loadVolume(os.path.join(expFolder,ctFileName))\n",
    "ctVolumeNode.GetDisplayNode().SetAndObserveColorNodeID('vtkMRMLColorTableNodeGrey')\n",
    "\n",
    "ptVolumeNode = slicer.util.loadVolume(os.path.join(expFolder,ptFileName))\n",
    "ptVolumeNode.GetDisplayNode().SetAndObserveColorNodeID('vtkMRMLPETProceduralColorNodePET-Heat')\n",
    "\n",
    "softmaxVolumeNode = slicer.util.loadVolume(os.path.join(expFolder,softmaxFileName))\n",
    "softmaxVolumeNode.GetDisplayNode().SetAndObserveColorNodeID('vtkMRMLColorTableNodeBlue')\n",
    "\n",
    "original_segmentationNode = slicer.mrmlScene.AddNewNodeByClass(\"vtkMRMLSegmentationNode\", \"original\")\n",
    "gt_Name = createSegmentFromLabelFile(expFolder, gtFileName, \"gtLabelMap\",\\\n",
    "          original_segmentationNode, (0,0,1), False, True)\n",
    "predNN_Name = createSegmentFromLabelFile(expFolder, predFromNNFileName, \"predNNLabelMap\",\\\n",
    "          original_segmentationNode, (1,0,0), False, False)\n",
    "\n",
    "\n",
    "fgScribble_segmentationNode = slicer.mrmlScene.AddNewNodeByClass(\"vtkMRMLSegmentationNode\", \"fgScribble\")\n",
    "fgScribble_Name = createSegmentFromLabelFile(expFolder, fgScribbleFileName,  \"fgScribbleLabelMap\",\\\n",
    "          fgScribble_segmentationNode, (0.15, 0.7, 0.8), True, True)\n",
    "\n",
    "bgScribble_segmentationNode = slicer.mrmlScene.AddNewNodeByClass(\"vtkMRMLSegmentationNode\", \"bgScribble\")\n",
    "bgScribble_Name = createSegmentFromLabelFile(expFolder, bgScribbleFileName, \"bgScribbleLabelMap\",\\\n",
    "          bgScribble_segmentationNode, (0.8, 0.7, 0.15), True, True)\n",
    "\n",
    "gcut_segmentationNode = slicer.mrmlScene.AddNewNodeByClass(\"vtkMRMLSegmentationNode\", \"graphcut\")\n",
    "gc_softmax_Name = createSegmentFromLabelFile(expFolder, gc_softmax_FileName, \"gc_softmaxLabelMap\",\\\n",
    "   gcut_segmentationNode, (0.3, 0.5, 0.7), False, True)    \n",
    "gc_ct_Name = createSegmentFromLabelFile(expFolder, gc_ct_FileName, \"gc_ctLabelMap\",\\\n",
    "   gcut_segmentationNode, (0.7, 0.3, 0.5), False, False)    \n",
    "gc_pet_Name = createSegmentFromLabelFile(expFolder, gc_pet_FileName, \"gc_petLabelMap\",\\\n",
    "   gcut_segmentationNode, (0.5, 0.7, 0.3), False, False)\n",
    "\n",
    "# slicer.util.setSliceViewerLayers(background=ctVolumeNode, foreground=ptVolumeNode, label=gt_segmentationNode\\\n",
    "#                                 foregroundOpacity=0.5,labelOpacity=0.5)\n",
    "slicer.util.setSliceViewerLayers(background=softmaxVolumeNode, foreground=ptVolumeNode, foregroundOpacity=0.5)\n",
    "\n",
    "#reinforce visibility false:\n",
    "original_segmentationNode.GetDisplayNode().SetSegmentVisibility(predNN_Name,False)\n",
    "gcut_segmentationNode.GetDisplayNode().SetSegmentVisibility(gc_ct_Name,False)\n",
    "gcut_segmentationNode.GetDisplayNode().SetSegmentVisibility(gc_pet_Name,False)\n"
   ]
  },
  {
   "cell_type": "code",
   "execution_count": 15,
   "metadata": {},
   "outputs": [],
   "source": [
    "window = qt.QWidget()\n",
    "window.setWindowTitle('QHBoxLayout')\n",
    "layout = qt.QHBoxLayout()\n",
    "layout.addWidget(qt.QPushButton('Left'))\n",
    "layout.addWidget(qt.QPushButton('Center'))\n",
    "layout.addWidget(qt.QPushButton('Right'))\n",
    "window.setLayout(layout)\n",
    "window.show()"
   ]
  },
  {
   "cell_type": "code",
   "execution_count": 186,
   "metadata": {},
   "outputs": [],
   "source": [
    "def updateScribbleFile(scribble_segmentationNode, scribble_Name, masterVolumeNode,\\\n",
    "                       folderPath, scribbleFileName):\n",
    "    #Make sure the segment is visible; Since this is only segment no need to make others invisible\n",
    "    scribble_segmentationNode.GetDisplayNode().SetSegmentVisibility(scribble_Name,True)\n",
    "    #set references to masterVolumeNode\n",
    "    scribble_segmentationNode.SetReferenceImageGeometryParameterFromVolumeNode(masterVolumeNode)\n",
    "    #make temp labelvolumenode\n",
    "    temp_labelmapVolumeNode = slicer.mrmlScene.AddNewNodeByClass('vtkMRMLLabelMapVolumeNode')\n",
    "    #export Segmentation to labelmapNode\n",
    "    slicer.modules.segmentations.logic().ExportVisibleSegmentsToLabelmapNode(scribble_segmentationNode,\\\n",
    "    temp_labelmapVolumeNode, masterVolumeNode)\n",
    "    #save labelmap to disk; before that copy original scribble to \"old_\" scribble file\n",
    "    shutil.copy(os.path.join(folderPath, scribbleFileName), \\\n",
    "                os.path.join(folderPath, \"old_\"+ scribbleFileName))\n",
    "    slicer.util.saveNode(temp_labelmapVolumeNode,os.path.join(folderPath, scribbleFileName))\n",
    "    #Finally delete the temp labelvolumenode \n",
    "    slicer.mrmlScene.RemoveNode(temp_labelmapVolumeNode)\n",
    "\n",
    "########################## Save update FG_scribble ########################\n",
    "updateScribbleFile(fgScribble_segmentationNode, fgScribble_Name, softmaxVolumeNode,\\\n",
    "                       expFolder, fgScribbleFileName) \n",
    "\n",
    "########################## Save update BG_scribble ########################\n",
    "updateScribbleFile(bgScribble_segmentationNode, bgScribble_Name, softmaxVolumeNode,\\\n",
    "                       expFolder, bgScribbleFileName) \n",
    "\n"
   ]
  },
  {
   "cell_type": "code",
   "execution_count": 187,
   "metadata": {},
   "outputs": [
    {
     "name": "stdout",
     "output_type": "stream",
     "text": [
      "Starting action :  imcut\n",
      "starting connection to ('127.0.0.1', 65432)\n",
      "sending b'\\x00h{\"byteorder\": \"little\", \"content-type\": \"text/json\", \"content-encoding\": \"utf-8\", \"content-length\": 127}{\"action\": \"imcut\", \"value\": \"/home/user/DMML/Data/PlayDataManualSegmentation/AutoScribbleExperiment/graphCutInputConfig.json\"}' to ('127.0.0.1', 65432)\n",
      "received text/json response from ('127.0.0.1', 65432)\n",
      "graphCut success : True\n",
      "closing connection to ('127.0.0.1', 65432)\n",
      "{'successFlag': True, 'patientName': 'CHUM038', 'gcPath_ct': '/home/user/DMML/Data/PlayDataManualSegmentation/AutoScribbleExperiment/expPat_ct_gCut.nii.gz', 'gcPath_pet': '/home/user/DMML/Data/PlayDataManualSegmentation/AutoScribbleExperiment/expPat_pet_gCut.nii.gz', 'gcPath_softmax': '/home/user/DMML/Data/PlayDataManualSegmentation/AutoScribbleExperiment/expPat_softmax_gCut.nii.gz', 'originalDice': 0.48517890685847803, 'numFGS': 8, 'numBGS': 8, 'gcDice_ct': 0.3822694948353578, 'gcDice_pet': 0.4741745584847709, 'gcDice_softmax': 0.5530731190392087}\n"
     ]
    }
   ],
   "source": [
    "#Re run graphcut updated scribble \n",
    "from src.gcHelper import remote_generateGrahcutSegmentationAndDiceFromJson    \n",
    "gcAndDiceResult = remote_generateGrahcutSegmentationAndDiceFromJson(graphCutInputConfig_JsonFilePath)\n",
    "print(gcAndDiceResult)"
   ]
  },
  {
   "cell_type": "code",
   "execution_count": 16,
   "metadata": {},
   "outputs": [],
   "source": [
    "slicer.mrmlScene.Clear()"
   ]
  },
  {
   "cell_type": "code",
   "execution_count": null,
   "metadata": {},
   "outputs": [],
   "source": []
  },
  {
   "cell_type": "code",
   "execution_count": null,
   "metadata": {},
   "outputs": [],
   "source": [
    "# #Save scribble\n",
    "# Export a selection of segments (identified by their names):\n",
    "# segmentNames = [\"Prostate\", \"Urethra\"]\n",
    "# segmentIds = vtk.vtkStringArray()\n",
    "# for segmentName in segmentNames:\n",
    "#     segmentId = segmentationNode.GetSegmentation().GetSegmentIdBySegmentName(segmentName)\n",
    "#     segmentIds.InsertNextValue(segmentId)\n",
    "# slicer.vtkSlicerSegmentationsModuleLogic.ExportSegmentsToLabelmapNode(segmentationNode,\\\n",
    "#             segmentIds, labelmapVolumeNode, referenceVolumeNode)\n",
    "\n",
    "########################## Save update FG_scribble ########################\n",
    "# fgScribble_segmentationNode.GetDisplayNode().SetSegmentVisibility(fgScribble_Name,True)\n",
    "# #set references to masterVolumeNode\n",
    "# fgScribble_segmentationNode.SetReferenceImageGeometryParameterFromVolumeNode(softmaxVolumeNode)\n",
    "# #make temp labelvolumenode\n",
    "# temp_labelmapVolumeNode = slicer.mrmlScene.AddNewNodeByClass('vtkMRMLLabelMapVolumeNode')\n",
    "# #export Segmentation to labelmapNode\n",
    "# slicer.modules.segmentations.logic().ExportVisibleSegmentsToLabelmapNode(fgScribble_segmentationNode,\\\n",
    "#     temp_labelmapVolumeNode, softmaxVolumeNode)\n",
    "# #save labelmap to disk; before that copy original scribble to \"old_\" scribble file\n",
    "# shutil.copy(os.path.join(expFolder, fgScribbleFileName), \\\n",
    "#                 os.path.join(expFolder, \"old_\"+fgScribbleFileName))\n",
    "# slicer.util.saveNode(temp_labelmapVolumeNode,os.path.join(expFolder, fgScribbleFileName))\n",
    "# #Finally delete the temp labelvolumenode \n",
    "# slicer.mrmlScene.RemoveNode(temp_labelmapVolumeNode)\n",
    "\n",
    "########################## Save update BG_scribble ########################\n",
    "# bgScribble_segmentationNode.GetDisplayNode().SetSegmentVisibility(bgScribble_Name,True)\n",
    "# #set references to masterVolumeNode\n",
    "# bgScribble_segmentationNode.SetReferenceImageGeometryParameterFromVolumeNode(softmaxVolumeNode)\n",
    "# #make temp labelvolumenode\n",
    "# temp_labelmapVolumeNode = slicer.mrmlScene.AddNewNodeByClass('vtkMRMLLabelMapVolumeNode')\n",
    "# #export Segmentation to labelmapNode\n",
    "# slicer.modules.segmentations.logic().ExportVisibleSegmentsToLabelmapNode(bgScribble_segmentationNode,\\\n",
    "#     temp_labelmapVolumeNode, softmaxVolumeNode)\n",
    "# #save labelmap to disk\n",
    "# shutil.copy(os.path.join(expFolder, bgScribbleFileName), \\\n",
    "#                 os.path.join(expFolder, \"old_\"+bgScribbleFileName))\n",
    "# slicer.util.saveNode(temp_labelmapVolumeNode,os.path.join(expFolder, bgScribbleFileName))\n",
    "# #Finally delete the temp labelvolumenode \n",
    "# slicer.mrmlScene.RemoveNode(temp_labelmapVolumeNode)\n",
    "###########################################################################"
   ]
  },
  {
   "cell_type": "code",
   "execution_count": null,
   "metadata": {},
   "outputs": [],
   "source": [
    "# #This one creates separate segmentation nodes from each label file : Not used any more\n",
    "# def createSegmentationNodeFromLabelFile(folderPath, labelFileName, labelMapName,\\\n",
    "#         segmentationNodeName, colorTriple, sliceFillFlag, overallVisibility=True):\n",
    "#     #labelMapNode = slicer.util.addVolumeFromArray(labelData,ijkToRAS=None,\n",
    "#     #                      name=labelMapName,nodeClassName='vtkMRMLScalarVolumeNode')\n",
    "#     labelMapNode = slicer.util.loadLabelVolume(os.path.join(folderPath, labelFileName),\\\n",
    "#             properties = {'name': labelMapName})\n",
    "#     segmentationNode = slicer.mrmlScene.AddNewNodeByClass(\"vtkMRMLSegmentationNode\", segmentationNodeName)\n",
    "#     slicer.modules.segmentations.logic().ImportLabelmapToSegmentationNode(labelMapNode, segmentationNode)\n",
    "#     slicer.mrmlScene.RemoveNode(labelMapNode)\n",
    "#     segmentationNode.GetSegmentation().GetSegment(labelMapName).SetColor(colorTriple[0], colorTriple[1],colorTriple[2])\n",
    "#     if True == sliceFillFlag:\n",
    "#         segmentationNode.GetDisplayNode().SetVisibility2DFill(1)\n",
    "#         #segmentationNode.SetSegmentVisibility2DFill('Segment_1',True)\n",
    "#     else:\n",
    "#         segmentationNode.GetDisplayNode().SetVisibility2DFill(0)\n",
    "#         #segmentationNode.SetSegmentVisibility2DFill('Segment_1',False)\n",
    "#     #set overall visibility\n",
    "#     segmentationNode.GetDisplayNode().SetVisibility(overallVisibility)\n",
    "#     return segmentationNode"
   ]
  },
  {
   "cell_type": "code",
   "execution_count": null,
   "metadata": {},
   "outputs": [],
   "source": [
    "# ctVolumeNode = slicer.util.loadVolume(os.path.join(expFolder,ctFileName))\n",
    "# ctVolumeNode.GetDisplayNode().SetAndObserveColorNodeID('vtkMRMLColorTableNodeGrey')\n",
    "\n",
    "# ptVolumeNode = slicer.util.loadVolume(os.path.join(expFolder,ptFileName))\n",
    "# ptVolumeNode.GetDisplayNode().SetAndObserveColorNodeID('vtkMRMLPETProceduralColorNodePET-Heat')\n",
    "\n",
    "# softmaxVolumeNode = slicer.util.loadVolume(os.path.join(expFolder,softmaxFileName))\n",
    "# softmaxVolumeNode.GetDisplayNode().SetAndObserveColorNodeID('vtkMRMLColorTableNodeBlue')\n",
    "\n",
    "# gt_segmentationNode = createSegmentationNodeFromLabelFile(expFolder, gtFileName, \\\n",
    "#                          \"gtLabelMap\", \"gtSeg\", (0,0,1), False, True)\n",
    "# predNN_segmentationNode = createSegmentationNodeFromLabelFile(expFolder, predFromNNFileName, \\\n",
    "#                          \"predNNLabelMap\", \"predNNSeg\", (1,0,0), False, False)\n",
    "\n",
    "# fgScribble_segmentationNode = createSegmentationNodeFromLabelFile(expFolder, fgScribbleFileName, \\\n",
    "#                          \"fgScribbleLabelMap\", \"fgScribbleSeg\", (0.15, 0.7, 0.8), True, True)\n",
    "# bgScribble_segmentationNode = createSegmentationNodeFromLabelFile(expFolder, bgScribbleFileName, \\\n",
    "#                          \"bgScribbleLabelMap\", \"bgScribbleSeg\", (0.8, 0.7, 0.15), True, True)\n",
    "\n",
    "# gc_softmax_segmentationNode = createSegmentationNodeFromLabelFile(expFolder,\\\n",
    "#   gc_softmax_FileName, \"gc_softmaxLabelMap\", \"gc_softmaxSeg\", \\\n",
    "#     (0.3, 0.5, 0.7), False, True)\n",
    "\n",
    "# gc_ct_segmentationNode = createSegmentationNodeFromLabelFile(expFolder,\\\n",
    "#   gc_ct_FileName, \"gc_ctLabelMap\", \"gc_ctSeg\", \\\n",
    "#     (0.7, 0.3, 0.5), False, False)\n",
    "\n",
    "# gc_pet_segmentationNode = createSegmentationNodeFromLabelFile(expFolder,\\\n",
    "#   gc_pet_FileName, \"gc_petLabelMap\", \"gc_petSeg\", \\\n",
    "#     (0.5, 0.7, 0.3), False, False)\n",
    "\n",
    "# # slicer.util.setSliceViewerLayers(background=ctVolumeNode, foreground=ptVolumeNode, label=gt_segmentationNode\\\n",
    "# #                                 foregroundOpacity=0.5,labelOpacity=0.5)\n",
    "# slicer.util.setSliceViewerLayers(background=softmaxVolumeNode, foreground=ptVolumeNode, foregroundOpacity=0.5)"
   ]
  },
  {
   "cell_type": "code",
   "execution_count": null,
   "metadata": {},
   "outputs": [],
   "source": [
    "# gt_segmentationNode = createSegmentationNodeFromLabelFile(expFolder, gtFileName, \\\n",
    "#                          \"gtLabelMap\", \"gtSeg\", (0,0,1), False)\n",
    "# predNN_segmentationNode = createSegmentationNodeFromLabelFile(expFolder, predFromNNFileName, \\\n",
    "#                          \"predNNLabelMap\", \"predNNSeg\", (1,0,0), False)\n",
    "# fgScribble_segmentationNode = createSegmentationNodeFromLabelFile(expFolder, fgScribbleFileName, \\\n",
    "#                          \"fgScribbleLabelMap\", \"fgScribbleSeg\", (0.15, 0.7, 0.8), True)\n",
    "# bgScribble_segmentationNode = createSegmentationNodeFromLabelFile(expFolder, bgScribbleFileName, \\\n",
    "#                          \"bgScribbleLabelMap\", \"bgScribbleSeg\", (0.8, 0.7, 0.15), True)\n",
    "\n",
    "# # slicer.util.setSliceViewerLayers(background=ctVolumeNode, foreground=ptVolumeNode, label=gt_segmentationNode\\\n",
    "# #                                 foregroundOpacity=0.5,labelOpacity=0.5)\n"
   ]
  },
  {
   "cell_type": "code",
   "execution_count": null,
   "metadata": {},
   "outputs": [],
   "source": [
    "#Python interactor output\n",
    "# >>> expPat_pt_VolumeNode = getNode('expPat_pt')\n",
    "# >>> type(expPat_pt_VolumeNode)\n",
    "# <class 'MRMLCorePython.vtkMRMLScalarVolumeNode'>\n",
    "# >>> expPat_pt_DisplayNode = expPat_pt_VolumeNode.GetDisplayNode()\n",
    "# >>> type(expPat_pt_DisplayNode)\n",
    "# <class 'MRMLCorePython.vtkMRMLScalarVolumeDisplayNode'>\n",
    "# >>> expPat_pt_ColorNode = expPat_pt_DisplayNode.GetColorNode()\n",
    "# >>> type(expPat_pt_ColorNode)\n",
    "# <class 'MRMLCorePython.vtkMRMLColorTableNode'>\n",
    "# >>> expPat_pt_CurrentLUT = expPat_pt_ColorNode.GetLookupTable()\n",
    "# >>> type(expPat_pt_CurrentLUT)\n",
    "# <class 'vtkCommonCorePython.vtkLookupTable'>\n",
    "\n",
    "# >>> indexL = expPat_pt_CurrentLUT.GetIndexedLookup()\n",
    "# >>> type(indexL)\n",
    "# <class 'int'>\n",
    "# >>> print(indexL)\n",
    "# 0\n",
    "# >>> expPat_pt_CurrentLUT.SetIndexedLookup(3)\n",
    "# >>> expPat_pt_CurrentLUT = expPat_pt_ColorNode.GetLookupTable()\n",
    "# >>> print(expPat_pt_CurrentLUT.GetIndexedLookup())\n",
    "# 3\n",
    "# >>> getNode('expPat_pt').GetDisplayNode().GetColorNode().IsTypeOf('vtkMRMLColorTableNode')\n",
    "# 1\n",
    "# >>> getNode('expPat_pt').GetDisplayNode().GetColorNode().IsTypeOf('vtkMRMLProceduralColorNode')\n",
    "# 0"
   ]
  },
  {
   "cell_type": "code",
   "execution_count": null,
   "metadata": {},
   "outputs": [],
   "source": [
    "# #Experimental read write json file\n",
    "# with open(\"/home/user/DMML/Data/PlayDataManualSegmentation/AutoScribbleExperiment/expPat_graphCutInput.json\") as fp:\n",
    "#         gcSConfig = json.load(fp)\n",
    "#         fp.close() \n",
    "# srcFolder = gcSConfig[\"srcFolder\" ]\n",
    "# patDataConfig = gcSConfig[\"patDataConfig\" ]\n",
    "# autoScribbleAndGCConfig = gcSConfig['autoScribbleAndGCConfig']\n",
    "# expFolder = patDataConfig[\"expFolder\"]\n",
    "\n",
    "# print(srcFolder)\n",
    "# print(expFolder)\n",
    "# print(autoScribbleAndGCConfig)\n",
    "# print(patDataConfig['labels_to_train'])\n",
    "\n",
    "# #Make changes\n",
    "\n",
    "# new_expFolder = \"/home/user/DMML/Data/PlayDataManualSegmentation/ManualScribble\"\n",
    "# new_patDataConfig = patDataConfig\n",
    "# new_patDataConfig[\"expFolder\"]= new_expFolder\n",
    "\n",
    "# new_srcFolder = \"/home/user/DMML/Data/HeadNeck_PET_CT/nnUnet_3dfullres/training_gtvs_withSoftmax\"\n",
    "# new_gcSConfig = gcSConfig\n",
    "# new_gcSConfig[\"srcFolder\" ] = new_srcFolder\n",
    "# new_gcSConfig[\"patDataConfig\" ] = new_patDataConfig\n",
    "# with open(\"/home/user/DMML/Data/PlayDataManualSegmentation/AutoScribbleExperiment/modified_expPat_graphCutInput.json\", 'w') as fp:\n",
    "#         json.dump(new_gcSConfig, fp, ) #, indent='' #, indent=4\n",
    "#         fp.close()\n",
    "        \n",
    "# #Let us test\n",
    "# #Experimental read write json file\n",
    "# with open(\"/home/user/DMML/Data/PlayDataManualSegmentation/AutoScribbleExperiment/modified_expPat_graphCutInput.json\") as fp:\n",
    "#         gcSConfig2 = json.load(fp)\n",
    "#         fp.close() \n",
    "# srcFolder2 = gcSConfig2[\"srcFolder\" ]\n",
    "# patDataConfig2 = gcSConfig2[\"patDataConfig\" ]\n",
    "# autoScribbleAndGCConfig2 = gcSConfig2['autoScribbleAndGCConfig']\n",
    "# expFolder2 = patDataConfig2[\"expFolder\"]\n",
    "\n",
    "# print('####################')\n",
    "# print(srcFolder2)\n",
    "# print(expFolder2)\n",
    "# print(autoScribbleAndGCConfig2)\n",
    "# print(patDataConfig2['labels_to_train'])"
   ]
  },
  {
   "cell_type": "code",
   "execution_count": null,
   "metadata": {},
   "outputs": [],
   "source": []
  }
 ],
 "metadata": {
  "kernelspec": {
   "display_name": "Slicer 4.11",
   "language": "python",
   "name": "slicer-4.11"
  },
  "language_info": {
   "file_extension": ".py",
   "mimetype": "text/x-python",
   "name": "python",
   "version": "3.6.7"
  }
 },
 "nbformat": 4,
 "nbformat_minor": 4
}
