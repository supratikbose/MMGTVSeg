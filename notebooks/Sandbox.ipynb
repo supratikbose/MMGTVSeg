{
 "cells": [
  {
   "cell_type": "markdown",
   "metadata": {},
   "source": [
    "### Scribble editor and result display \n",
    "#### display of scribbles in slicer, possible manual scribble update in slicer, conversion of scribbles to seeds for graphcut (initially 2D only),invoking graphcut, displaying result of graphcut in slicer, iteration in slicer, save result"
   ]
  },
  {
   "cell_type": "code",
   "execution_count": null,
   "metadata": {},
   "outputs": [],
   "source": []
  }
 ],
 "metadata": {
  "kernelspec": {
   "display_name": "Slicer 4.11",
   "language": "python",
   "name": "slicer-4.11"
  },
  "language_info": {
   "file_extension": ".py",
   "mimetype": "text/x-python",
   "name": "python",
   "version": "3.6.7"
  }
 },
 "nbformat": 4,
 "nbformat_minor": 4
}
